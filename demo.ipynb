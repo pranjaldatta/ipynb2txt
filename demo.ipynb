{
 "cells": [
  {
   "cell_type": "code",
   "execution_count": 0,
   "metadata": {
    "colab": {},
    "colab_type": "code",
    "id": "KRCkb0UAi0N4"
   },
   "outputs": [],
   "source": [
    "#imports\n",
    "from functools import reduce"
   ]
  },
  {
   "cell_type": "code",
   "execution_count": 0,
   "metadata": {
    "colab": {
     "base_uri": "https://localhost:8080/",
     "height": 68
    },
    "colab_type": "code",
    "id": "X-ZDUzm1i1Ug",
    "outputId": "144f1be4-e1c0-48f7-8f2d-ac580aa317f2"
   },
   "outputs": [
    {
     "name": "stdout",
     "output_type": "stream",
     "text": [
      "Enter list of numbers: 1 2 3 4 5 \n",
      "Doubing numbers using map ...\n",
      "[2, 4, 6, 8, 10]\n"
     ]
    }
   ],
   "source": [
    "#Q1. Use map to double numbers\n",
    "\n",
    "def double_num(n):\n",
    "  return n*2\n",
    "\n",
    "arr = map(int, input(\"Enter list of numbers: \").split())\n",
    "print(\"Doubing numbers using map ...\")\n",
    "arr = list(map(double_num, arr))\n",
    "print(arr)"
   ]
  },
  {
   "cell_type": "code",
   "execution_count": 0,
   "metadata": {
    "colab": {
     "base_uri": "https://localhost:8080/",
     "height": 34
    },
    "colab_type": "code",
    "id": "xelw5TGxi_TI",
    "outputId": "1af43fe6-3535-4932-882f-b90a27ae9d3c"
   },
   "outputs": [
    {
     "name": "stdout",
     "output_type": "stream",
     "text": [
      "Final result:  [20, 16, 120, 21, 14, 7]\n"
     ]
    }
   ],
   "source": [
    "#Q2. add lists and then multiply ... \n",
    "\n",
    "numbers1 = [1,2,3,4,5,6]\n",
    "numbers2 = [4,6,12,3,2,1]\n",
    "numbers3 = [4,2,8,3,2,1]\n",
    "\n",
    "res1 = list(map(lambda x,y: x + y, numbers1, numbers2))\n",
    "res2 = list(map(lambda x,y: x*y, res1, numbers3))\n",
    "print(\"Final result: \", res2)"
   ]
  },
  {
   "cell_type": "code",
   "execution_count": 0,
   "metadata": {
    "colab": {
     "base_uri": "https://localhost:8080/",
     "height": 88
    },
    "colab_type": "code",
    "id": "scleHKiGljc6",
    "outputId": "123fd545-63a6-42a5-bfc6-12078e5c4395"
   },
   "outputs": [
    {
     "name": "stdout",
     "output_type": "stream",
     "text": [
      "cat dog horse tiger lion\n",
      "List of strings:  ['cat', 'dog', 'horse', 'tiger', 'lion']\n",
      "List of chars:  [['c', 'a', 't'], ['d', 'o', 'g'], ['h', 'o', 'r', 's', 'e'], ['t', 'i', 'g', 'e', 'r'], ['l', 'i', 'o', 'n']]\n"
     ]
    }
   ],
   "source": [
    "#Q3. List of strings, list of characters\n",
    "\n",
    "list_of_strings = input().split()\n",
    "print(\"List of strings: \", list_of_strings)\n",
    "list_of_chars = list(map(list, list_of_strings))\n",
    "print(\"List of chars: \", list_of_chars)"
   ]
  },
  {
   "cell_type": "code",
   "execution_count": 0,
   "metadata": {
    "colab": {
     "base_uri": "https://localhost:8080/",
     "height": 68
    },
    "colab_type": "code",
    "id": "jnzfglNrnZjs",
    "outputId": "5d05fbe7-8eaa-4bd6-e39c-cafb3569dea7"
   },
   "outputs": [
    {
     "name": "stdout",
     "output_type": "stream",
     "text": [
      "Enter number: 5\n",
      "Cubing with def:  125\n",
      "Cubing with lambda:  125\n"
     ]
    }
   ],
   "source": [
    "#Q4. Cube using def and lambda\n",
    "\n",
    "def cube(x):\n",
    "  return x*x*x\n",
    "\n",
    "num = int(input(\"Enter number: \"))\n",
    "\n",
    "print(\"Cubing with def: \", cube(num))\n",
    "lamb = lambda x: x*x*x\n",
    "print(\"Cubing with lambda: \", lamb(num))"
   ]
  },
  {
   "cell_type": "code",
   "execution_count": 0,
   "metadata": {
    "colab": {
     "base_uri": "https://localhost:8080/",
     "height": 34
    },
    "colab_type": "code",
    "id": "K1MWw-wKon6y",
    "outputId": "356a2eb3-e32f-47a1-a053-44084967ce38"
   },
   "outputs": [
    {
     "name": "stdout",
     "output_type": "stream",
     "text": [
      "[24, 12]\n"
     ]
    }
   ],
   "source": [
    "#Q5: lambda and filter: divisible by 4\n",
    "\n",
    "input_lists = [21, 24, 12, 34, 10, 15, 41] \n",
    "res = list(filter(lambda x: x%4 == 0, input_lists))\n",
    "print(res)"
   ]
  },
  {
   "cell_type": "code",
   "execution_count": 0,
   "metadata": {
    "colab": {
     "base_uri": "https://localhost:8080/",
     "height": 68
    },
    "colab_type": "code",
    "id": "Vzu_8i31p6uO",
    "outputId": "d08f262d-f54a-4956-aaa2-34e29cf4fa26"
   },
   "outputs": [
    {
     "name": "stdout",
     "output_type": "stream",
     "text": [
      "1 2 3 4 5 6\n",
      "Sum:  21\n",
      "Prod:  720\n"
     ]
    }
   ],
   "source": [
    "#Q6: reduce \n",
    "arr = list(map(int, input().split()))\n",
    "sum_list = reduce(lambda x, y: x + y, arr)\n",
    "prod = reduce(lambda x, y: x * y, arr)\n",
    "print(\"Sum: \", sum_list)\n",
    "print(\"Prod: \", prod)\n"
   ]
  },
  {
   "cell_type": "code",
   "execution_count": 0,
   "metadata": {
    "colab": {
     "base_uri": "https://localhost:8080/",
     "height": 86
    },
    "colab_type": "code",
    "id": "SUwz9opur3zl",
    "outputId": "0dbce552-6192-4b21-9c3a-32b301055e73"
   },
   "outputs": [
    {
     "name": "stdout",
     "output_type": "stream",
     "text": [
      "1 2 3 4 5\n",
      "6 7 8 9 10\n",
      "[7, 9, 11, 13, 15]\n",
      "[1, 1, 1, 1, 1]\n"
     ]
    }
   ],
   "source": [
    "#Q7. Add two list and modulo it\n",
    "\n",
    "list1 = list(map(int, input().split()))\n",
    "list2 = list(map(int, input().split()))\n",
    "\n",
    "X = list(map(lambda x,y: x+y, list1, list2))\n",
    "Y = list(map(lambda x: x%2, X))\n",
    "print(X)\n",
    "print(Y)"
   ]
  },
  {
   "cell_type": "code",
   "execution_count": 0,
   "metadata": {
    "colab": {
     "base_uri": "https://localhost:8080/",
     "height": 51
    },
    "colab_type": "code",
    "id": "dIjo0ag73XqD",
    "outputId": "75a0ad49-f8c4-4461-eba7-ccd50d9f52bb"
   },
   "outputs": [
    {
     "name": "stdout",
     "output_type": "stream",
     "text": [
      "1 2 -1 -2 -3 -4 -5 4 5 6 7\n",
      "[1, 2, -1, -2, -3, -4, -5]\n"
     ]
    }
   ],
   "source": [
    "#8 select numbers from a list less than 2\n",
    "\n",
    "list1 = list(map(int, input().split()))\n",
    "\n",
    "fin_list = list(filter(lambda x: x <= 2, list1))\n",
    "print(fin_list)\n"
   ]
  },
  {
   "cell_type": "code",
   "execution_count": 0,
   "metadata": {
    "colab": {
     "base_uri": "https://localhost:8080/",
     "height": 68
    },
    "colab_type": "code",
    "id": "-Hg2_pR94iHl",
    "outputId": "10b54fd0-bdfa-4478-9c3c-e520759806cb"
   },
   "outputs": [
    {
     "name": "stdout",
     "output_type": "stream",
     "text": [
      "Enter 1 to convert F to C or Enter 2 to convert C to F: 2\n",
      "Enter temp in celsius: 100\n",
      "Converted:  212.0\n"
     ]
    }
   ],
   "source": [
    "#Q9. Farenheit to celsius and vice versa\n",
    "\n",
    "def F_to_c(f):\n",
    "  return (f - 32) * (5/9)\n",
    "\n",
    "def C_to_F(c):\n",
    "  return (9/5) * c + 32\n",
    "\n",
    "choice = int(input(\"Enter 1 to convert F to C or Enter 2 to convert C to F: \"))\n",
    "\n",
    "if choice == 1:\n",
    "  temp = [int(input(\"Enter temp in farenheight: \"))]  \n",
    "  temp = map(float, map(F_to_c, temp))\n",
    "  print(\"Converted: \", list(temp)[0])\n",
    "else: \n",
    "  temp = [int(input(\"Enter temp in celsius: \"))]\n",
    "  temp = map(float, map(C_to_F, temp)) \n",
    "  print(\"Converted: \", list(temp)[0]) "
   ]
  },
  {
   "cell_type": "code",
   "execution_count": 0,
   "metadata": {
    "colab": {
     "base_uri": "https://localhost:8080/",
     "height": 69
    },
    "colab_type": "code",
    "id": "KZZMtt4b6W-Z",
    "outputId": "01daa589-d38a-4376-b46b-728efd5e7e07"
   },
   "outputs": [
    {
     "name": "stdout",
     "output_type": "stream",
     "text": [
      "Enter length of fibo series: 11\n",
      "Even nums:  [0, 2, 8, 34]\n",
      "Odd nums:  [1, 1, 3, 5, 13, 21, 55]\n"
     ]
    }
   ],
   "source": [
    "#Q10. Generate Fibo and then separate\n",
    "\n",
    "def Fibo(n):\n",
    "  arr = [0, 1]\n",
    "  n -= 2\n",
    "  c = 1\n",
    "  while c <= n:\n",
    "    new_item = arr[c] + arr[c-1]\n",
    "    c += 1\n",
    "    arr.append(new_item)\n",
    "  return arr\n",
    "\n",
    "n = int(input(\"Enter length of fibo series: \"))\n",
    "fibo_list = Fibo(n)\n",
    "\n",
    "even_fibo = list(filter(lambda x: x%2 == 0, fibo_list))\n",
    "odd_fibo = list(filter(lambda x: x % 2 != 0, fibo_list))\n",
    "\n",
    "print(\"Even nums: \", even_fibo)\n",
    "print(\"Odd nums: \", odd_fibo)\n",
    "\n",
    "\n"
   ]
  },
  {
   "cell_type": "code",
   "execution_count": 0,
   "metadata": {
    "colab": {},
    "colab_type": "code",
    "id": "7WD4r47NFr2S"
   },
   "outputs": [],
   "source": []
  }
 ],
 "metadata": {
  "colab": {
   "collapsed_sections": [],
   "name": "APP_WEEK4A.ipynb",
   "provenance": []
  },
  "kernelspec": {
   "display_name": "Python 3",
   "language": "python",
   "name": "python3"
  },
  "language_info": {
   "codemirror_mode": {
    "name": "ipython",
    "version": 3
   },
   "file_extension": ".py",
   "mimetype": "text/x-python",
   "name": "python",
   "nbconvert_exporter": "python",
   "pygments_lexer": "ipython3",
   "version": "3.7.6"
  }
 },
 "nbformat": 4,
 "nbformat_minor": 1
}
